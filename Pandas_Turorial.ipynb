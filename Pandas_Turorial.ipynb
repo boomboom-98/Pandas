{
  "nbformat": 4,
  "nbformat_minor": 0,
  "metadata": {
    "colab": {
      "private_outputs": true,
      "provenance": []
    },
    "kernelspec": {
      "name": "python3",
      "display_name": "Python 3"
    },
    "language_info": {
      "name": "python"
    }
  },
  "cells": [
    {
      "cell_type": "code",
      "execution_count": null,
      "metadata": {
        "id": "ScxJFNedkpqU"
      },
      "outputs": [],
      "source": []
    },
    {
      "cell_type": "markdown",
      "source": [
        "# What is a Series ?\n",
        "A Pandas Series is like a column n a table.\n",
        "- One dimentional array\n",
        "- Holding any type of data"
      ],
      "metadata": {
        "id": "yXtZNc2mkwbB"
      }
    },
    {
      "cell_type": "code",
      "source": [
        "import pandas as pd\n",
        "a = [1, 7, 9]\n",
        "myvar = pd.Series(a)\n",
        "print(myvar)"
      ],
      "metadata": {
        "id": "7I-VC7rik_yr"
      },
      "execution_count": null,
      "outputs": []
    },
    {
      "cell_type": "markdown",
      "source": [
        "# Labels\n",
        "If nothing else is specified, the values are labeled with thier index number.\n",
        "Like numpy, first value have index 0, second have index 1, etc."
      ],
      "metadata": {
        "id": "vtCrWy3NlNRi"
      }
    },
    {
      "cell_type": "code",
      "source": [
        "print(myvar[0])"
      ],
      "metadata": {
        "id": "oP0_piHpletJ"
      },
      "execution_count": null,
      "outputs": []
    },
    {
      "cell_type": "code",
      "source": [],
      "metadata": {
        "id": "lVaD_g_-lh1R"
      },
      "execution_count": null,
      "outputs": []
    },
    {
      "cell_type": "markdown",
      "source": [
        "# Create labels\n",
        "With the index argument, you can name your own labels.\n",
        "When you have created labels, you can access an item hy referring to the label.\n",
        "- unlike numpy, when you call label you must put it in quotation mark."
      ],
      "metadata": {
        "id": "sgsy_gIrljGv"
      }
    },
    {
      "cell_type": "code",
      "source": [
        "myvar = pd.Series(a, index = [\"x\", \"y\",\"z\"])\n",
        "print(a[0])\n",
        "print(myvar['x'])"
      ],
      "metadata": {
        "id": "cXfxhWZ0l1YR"
      },
      "execution_count": null,
      "outputs": []
    },
    {
      "cell_type": "markdown",
      "source": [
        "# Key/Value Objects as Series\n",
        "You can use key/value object as series, like dictionary, when create a Series.\n",
        "- The keys of the dictionary become the labels.\n",
        "- To select only some of the items in the dictionary, use the index argument and specify nly the items you want to include in the Series."
      ],
      "metadata": {
        "id": "GWXgMkBNmn-L"
      }
    },
    {
      "cell_type": "code",
      "source": [
        "import pandas as np\n",
        "calories = {\"day1\":420, \"day2\": 440,\"day3\":550} # Tạo một từ điển\n",
        "myvar = pd.Series(calories) # Tạo biến mới rồi ép sang loại Series.\n",
        "print(myvar)\n",
        "print(myvar['day1'])"
      ],
      "metadata": {
        "id": "jkshEoahm0sn"
      },
      "execution_count": null,
      "outputs": []
    },
    {
      "cell_type": "code",
      "source": [
        "myvar_sub = pd.Series(calories, index = ['day1', 'day3'])\n",
        "myvar_sub"
      ],
      "metadata": {
        "id": "wYNKZ6rUnfH2"
      },
      "execution_count": null,
      "outputs": []
    },
    {
      "cell_type": "markdown",
      "source": [
        "#Data Frames\n",
        "Data sets in Pandas are usually multi-dimentional tables, called DataFrames.\n",
        "- Series like a column, DataFrames like a table."
      ],
      "metadata": {
        "id": "QiXGD55Sn8Rh"
      }
    },
    {
      "cell_type": "code",
      "source": [
        "data = {\n",
        "    \"calories\": [420, 380, 390],\n",
        "    \"duration\": [50, 40, 45]\n",
        "}\n",
        "df = pd.DataFrame(data)\n",
        "print(df)"
      ],
      "metadata": {
        "id": "I-pzL_Waobmx"
      },
      "execution_count": null,
      "outputs": []
    },
    {
      "cell_type": "code",
      "source": [
        "df['calories']"
      ],
      "metadata": {
        "id": "MoTGWdzxor4V"
      },
      "execution_count": null,
      "outputs": []
    },
    {
      "cell_type": "code",
      "source": [],
      "metadata": {
        "id": "gbIXoA7S6jBo"
      },
      "execution_count": null,
      "outputs": []
    },
    {
      "cell_type": "markdown",
      "source": [
        "# What is a dataframe?\n",
        "A Pandas Dataframe is a 2 dimentional data structrure, like a 2 dimentional array or table with rows and columns.\n",
        "## Locate Row\n",
        "Pandas use the 'loc' attribute to return one or more specified row(s)"
      ],
      "metadata": {
        "id": "ePFpNI2u6jWb"
      }
    },
    {
      "cell_type": "code",
      "source": [
        "# return row 0.\n",
        "print(df.loc[0]) # this example returns a Pandas Series."
      ],
      "metadata": {
        "id": "2ZgxAzeD7MRm"
      },
      "execution_count": null,
      "outputs": []
    },
    {
      "cell_type": "code",
      "source": [
        "print(df.loc[[0,1]])"
      ],
      "metadata": {
        "id": "n_g1fyWd7eDd"
      },
      "execution_count": null,
      "outputs": []
    },
    {
      "cell_type": "code",
      "source": [
        "myvar = pd.DataFrame(data, index = ['day1','day2','day3'])\n",
        "myvar"
      ],
      "metadata": {
        "id": "WpKMdevu7pa2"
      },
      "execution_count": null,
      "outputs": []
    },
    {
      "cell_type": "code",
      "source": [
        "# access a specified row by labels\n",
        "myvar.loc[\"day2\"]\n",
        "myvar.loc[['day1','day2']]"
      ],
      "metadata": {
        "id": "V04piB7V8GKK"
      },
      "execution_count": null,
      "outputs": []
    },
    {
      "cell_type": "code",
      "source": [],
      "metadata": {
        "id": "MTjZJx468j5l"
      },
      "execution_count": null,
      "outputs": []
    },
    {
      "cell_type": "markdown",
      "source": [
        "# Load files into a dataframe\n",
        "If your data sets are stored in a file, Pandas can load them into a Dataframe."
      ],
      "metadata": {
        "id": "3LtrTg098kRL"
      }
    },
    {
      "cell_type": "code",
      "source": [
        "import pandas as pd\n",
        "data = pd.read_csv('iris.csv')\n",
        "data\n",
        "data.shape"
      ],
      "metadata": {
        "id": "-efNSBlj8s3g"
      },
      "execution_count": null,
      "outputs": []
    },
    {
      "cell_type": "code",
      "source": [],
      "metadata": {
        "id": "bWzv7WVt9po3"
      },
      "execution_count": null,
      "outputs": []
    },
    {
      "cell_type": "markdown",
      "source": [
        "# Pandas read CSV\n",
        "A simple way to store big data is to use csv file( comma separated files)\n",
        "- using to_string() function to print the entire DataFrame.\n",
        "- If you have a large DataFrame with many rows, Pandas will only return the first 5 rows, and the last 5 rows."
      ],
      "metadata": {
        "id": "0rgeigP29qH4"
      }
    },
    {
      "cell_type": "code",
      "source": [
        "import pandas as np\n",
        "df = pd.read_csv('data.csv')\n",
        "df"
      ],
      "metadata": {
        "id": "79ZOHYFH-qF0"
      },
      "execution_count": null,
      "outputs": []
    },
    {
      "cell_type": "markdown",
      "source": [],
      "metadata": {
        "id": "_OYq_VFQ_PKV"
      }
    },
    {
      "cell_type": "code",
      "source": [
        "# max row"
      ],
      "metadata": {
        "id": "ic4uui0h-6oj"
      },
      "execution_count": null,
      "outputs": []
    },
    {
      "cell_type": "code",
      "source": [],
      "metadata": {
        "id": "sY0SGOQcA3Ev"
      },
      "execution_count": null,
      "outputs": []
    },
    {
      "cell_type": "markdown",
      "source": [
        "# Viewing the data\n",
        "One of the most use method for getting a quick overview of the DataFrame, is the head() function method.\n",
        "The head() method returns the headers and a specified number of rows, starting from the top.\n",
        "- If the number of rows is not specified, the head() method will return the top 5 rows.\n",
        "- there is also a tail() method that returns the last rows and specified row."
      ],
      "metadata": {
        "id": "-Sp-6MunA37k"
      }
    },
    {
      "cell_type": "code",
      "source": [
        "df.head(10)"
      ],
      "metadata": {
        "id": "u4DfKPWuBQLp"
      },
      "execution_count": null,
      "outputs": []
    },
    {
      "cell_type": "code",
      "source": [
        "df.tail()"
      ],
      "metadata": {
        "id": "BxfMrxfEB1Qy"
      },
      "execution_count": null,
      "outputs": []
    },
    {
      "cell_type": "code",
      "source": [],
      "metadata": {
        "id": "7rA2-PyfB5Ad"
      },
      "execution_count": null,
      "outputs": []
    },
    {
      "cell_type": "markdown",
      "source": [
        "## Info About the data\n",
        "The dataFrames object has a method called info(), that gives you more information about the data set."
      ],
      "metadata": {
        "id": "s9oCzd4HB7Qc"
      }
    },
    {
      "cell_type": "code",
      "source": [
        "df.info()"
      ],
      "metadata": {
        "id": "N6OCWKpKCJX_"
      },
      "execution_count": null,
      "outputs": []
    }
  ]
}